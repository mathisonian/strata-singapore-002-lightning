{
 "cells": [
  {
   "cell_type": "code",
   "execution_count": null,
   "metadata": {
    "collapsed": true
   },
   "outputs": [],
   "source": [
    "from lightning import Lightning\n",
    "\n",
    "from numpy import random, asarray, arange\n",
    "from sklearn import datasets\n",
    "from scipy.ndimage.filters import gaussian_filter\n"
   ]
  },
  {
   "cell_type": "code",
   "execution_count": null,
   "metadata": {
    "collapsed": false
   },
   "outputs": [],
   "source": [
    "lgn = Lightning(ipython=True, host='http://public.lightning-viz.org')"
   ]
  },
  {
   "cell_type": "code",
   "execution_count": null,
   "metadata": {
    "collapsed": false
   },
   "outputs": [],
   "source": [
    "y = gaussian_filter(random.rand(100), 3)\n",
    "lgn.line(y)"
   ]
  },
  {
   "cell_type": "code",
   "execution_count": null,
   "metadata": {
    "collapsed": false
   },
   "outputs": [],
   "source": [
    "lgn.line(y, thickness=10, color=[255,100,100])"
   ]
  },
  {
   "cell_type": "code",
   "execution_count": null,
   "metadata": {
    "collapsed": false
   },
   "outputs": [],
   "source": [
    "x = random.randn(100)\n",
    "y = random.randn(100)\n",
    "\n",
    "lgn.scatter(x, y, xaxis='my axis label 1', yaxis='my axis label 2')"
   ]
  },
  {
   "cell_type": "code",
   "execution_count": null,
   "metadata": {
    "collapsed": true
   },
   "outputs": [],
   "source": [
    "lgn.set_size('full')\n",
    "viz = lgn.scatter(x, y, xaxis='my axis label 1', yaxis='my axis label 2')\n",
    "viz.open()\n",
    "lgn.set_size('medium')"
   ]
  },
  {
   "cell_type": "code",
   "execution_count": null,
   "metadata": {
    "collapsed": false
   },
   "outputs": [],
   "source": [
    "description = '''\n",
    "# full markdown descriptions\n",
    "\n",
    "```\n",
    "lgn.set_size('full')\n",
    "viz = lgn.scatter(x, y, xaxis='my axis label 1', yaxis='my axis label 2', description)\n",
    "viz.open()\n",
    "lgn.set_size('medium')\n",
    "```\n",
    "\n",
    "github-style markdown is supported in the description field\n",
    "'''"
   ]
  },
  {
   "cell_type": "code",
   "execution_count": null,
   "metadata": {
    "collapsed": false
   },
   "outputs": [],
   "source": [
    "lgn.set_size('full')\n",
    "viz = lgn.scatter(x, y, xaxis='my axis label 1', yaxis='my axis label 2', description=description)\n",
    "viz.open()\n",
    "lgn.set_size('medium')"
   ]
  },
  {
   "cell_type": "code",
   "execution_count": null,
   "metadata": {
    "collapsed": true
   },
   "outputs": [],
   "source": [
    "import math\n",
    "center = [0, 0]\n",
    "def distance(x, y):\n",
    "    return math.sqrt(x * x + y * y)"
   ]
  },
  {
   "cell_type": "code",
   "execution_count": null,
   "metadata": {
    "collapsed": false
   },
   "outputs": [],
   "source": [
    "distance(1, 2)"
   ]
  },
  {
   "cell_type": "markdown",
   "metadata": {},
   "source": [
    "## excercise - create a scatter plot with alpha values based on distance from 0, 0"
   ]
  },
  {
   "cell_type": "code",
   "execution_count": null,
   "metadata": {
    "collapsed": true
   },
   "outputs": [],
   "source": []
  },
  {
   "cell_type": "code",
   "execution_count": null,
   "metadata": {
    "collapsed": false
   },
   "outputs": [],
   "source": [
    "lgn = Lightning(local=True, ipython=True)"
   ]
  },
  {
   "cell_type": "code",
   "execution_count": null,
   "metadata": {
    "collapsed": true
   },
   "outputs": [],
   "source": [
    "import networkx as nx\n"
   ]
  },
  {
   "cell_type": "code",
   "execution_count": null,
   "metadata": {
    "collapsed": true
   },
   "outputs": [],
   "source": [
    "G = nx.random_geometric_graph(100, 0.2)\n",
    "pos = asarray(nx.get_node_attributes(G, 'pos').values())\n",
    "mat = nx.adjacency_matrix(G).todense()"
   ]
  },
  {
   "cell_type": "code",
   "execution_count": null,
   "metadata": {
    "collapsed": false
   },
   "outputs": [],
   "source": [
    "lgn.graph(pos[:,0], pos[:,1], mat)"
   ]
  },
  {
   "cell_type": "code",
   "execution_count": null,
   "metadata": {
    "collapsed": true
   },
   "outputs": [],
   "source": []
  }
 ],
 "metadata": {
  "kernelspec": {
   "display_name": "Python 2",
   "language": "python",
   "name": "python2"
  },
  "language_info": {
   "codemirror_mode": {
    "name": "ipython",
    "version": 2
   },
   "file_extension": ".py",
   "mimetype": "text/x-python",
   "name": "python",
   "nbconvert_exporter": "python",
   "pygments_lexer": "ipython2",
   "version": "2.7.10"
  }
 },
 "nbformat": 4,
 "nbformat_minor": 0
}
